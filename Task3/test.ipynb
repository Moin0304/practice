{
 "cells": [
  {
   "cell_type": "code",
   "execution_count": 1,
   "metadata": {},
   "outputs": [
    {
     "data": {
      "text/plain": [
       "'d:\\\\practice\\\\practice\\\\Task3'"
      ]
     },
     "execution_count": 1,
     "metadata": {},
     "output_type": "execute_result"
    }
   ],
   "source": [
    "pwd"
   ]
  },
  {
   "cell_type": "code",
   "execution_count": 37,
   "metadata": {},
   "outputs": [
    {
     "name": "stdout",
     "output_type": "stream",
     "text": [
      "10\n",
      "11\n",
      "12\n",
      "13\n",
      "14\n",
      "15\n",
      "16\n",
      "17\n",
      "18\n",
      "19\n"
     ]
    }
   ],
   "source": [
    "nums = [num for num in range(10, 20)]\n",
    "nums\n",
    "\n",
    "for i in nums:\n",
    "    print(i)"
   ]
  },
  {
   "cell_type": "code",
   "execution_count": 42,
   "metadata": {},
   "outputs": [
    {
     "name": "stdout",
     "output_type": "stream",
     "text": [
      "<list_iterator object at 0x00000281B3FDD600>\n",
      "10\n",
      "11\n"
     ]
    }
   ],
   "source": [
    "var = iter(nums)\n",
    "print(var)\n",
    "# for i in var:\n",
    "print(next(var))\n",
    "print(next(var))\n"
   ]
  },
  {
   "cell_type": "code",
   "execution_count": 12,
   "metadata": {},
   "outputs": [
    {
     "name": "stdout",
     "output_type": "stream",
     "text": [
      "10\n"
     ]
    }
   ],
   "source": [
    "print(len(list(nums)))\n",
    "for i in nums:\n",
    "    print(i)\n",
    "\n",
    "for i in nums:\n",
    "    print(i)"
   ]
  },
  {
   "cell_type": "code",
   "execution_count": 36,
   "metadata": {},
   "outputs": [
    {
     "data": {
      "text/plain": [
       "'# 6.Write a function to_percent which accepts a number representing a ratio and  returns a \\n# string representing the percentage representation of the number to one decimal place.\\n\\n\\n\\n# def to_present(ratio):\\n#     return  f\"{ratio * 100 : .1f}\"\\n\\n# def to_present(ratio):\\n#     percent = ratio * 100\\n#     return  \"{0:.1f}%\".format(percent)\\n\\n\\n# print(to_present(200/300))\\n\\nimport re\\n\\ndef ratio(num):\\n    try:\\n        if \\':\\' in num:\\n            x = re.split(\\':\\',num)\\n        else:\\n            x = re.split(\\'/\\',num)\\n        num = int(x[0])/int(x[1])\\n        dec_num = num *100\\n        return round(dec_num,1)\\n    except:\\n        return \"enter valid ratio for example: 1:2 or 1/2\"\\nnumber = input(\\'enter a ratio number to convert into percentagae: \\')\\nprint(ratio(number))\\n'"
      ]
     },
     "execution_count": 36,
     "metadata": {},
     "output_type": "execute_result"
    }
   ],
   "source": [
    "# fp = open('ratio_6.py', 'r')\n",
    "# data = fp.readline()\n",
    "# print(fp.seek(0))\n",
    "# fp.close()\n",
    "\n",
    "with open('ratio_6.py') as fp:\n",
    "    data = fp.read()\n",
    "\n",
    "data"
   ]
  },
  {
   "cell_type": "code",
   "execution_count": 61,
   "metadata": {},
   "outputs": [
    {
     "name": "stdout",
     "output_type": "stream",
     "text": [
      "<generator object <genexpr> at 0x00000281B603D7E0>\n",
      "<generator object <genexpr> at 0x00000281B603D7E0>\n",
      "<generator object <genexpr> at 0x00000281B603D7E0>\n",
      "<generator object <genexpr> at 0x00000281B603D7E0>\n"
     ]
    }
   ],
   "source": [
    "g =(num for num in range(1,11))\n",
    "g\n",
    "for i in range(1,5):\n",
    "    print(g)"
   ]
  },
  {
   "cell_type": "code",
   "execution_count": 62,
   "metadata": {},
   "outputs": [
    {
     "name": "stdout",
     "output_type": "stream",
     "text": [
      "<class 'list'>\n",
      "<class 'list_iterator'>\n",
      "1\n",
      "['__add__', '__class__', '__class_getitem__', '__contains__', '__delattr__', '__delitem__', '__dir__', '__doc__', '__eq__', '__format__', '__ge__', '__getattribute__', '__getitem__', '__gt__', '__hash__', '__iadd__', '__imul__', '__init__', '__init_subclass__', '__iter__', '__le__', '__len__', '__lt__', '__mul__', '__ne__', '__new__', '__reduce__', '__reduce_ex__', '__repr__', '__reversed__', '__rmul__', '__setattr__', '__setitem__', '__sizeof__', '__str__', '__subclasshook__', 'append', 'clear', 'copy', 'count', 'extend', 'index', 'insert', 'pop', 'remove', 'reverse', 'sort']\n"
     ]
    }
   ],
   "source": [
    "l = [1,2,3,4]\n",
    "print(type(l))\n",
    "l = iter(l)\n",
    "print(type(l))\n",
    "print(next(l))\n",
    "\n",
    "list = [1,2,3,4]\n",
    "print(dir(type(list)))\n"
   ]
  }
 ],
 "metadata": {
  "kernelspec": {
   "display_name": "Python 3.10.7 64-bit",
   "language": "python",
   "name": "python3"
  },
  "language_info": {
   "codemirror_mode": {
    "name": "ipython",
    "version": 3
   },
   "file_extension": ".py",
   "mimetype": "text/x-python",
   "name": "python",
   "nbconvert_exporter": "python",
   "pygments_lexer": "ipython3",
   "version": "3.10.7"
  },
  "orig_nbformat": 4,
  "vscode": {
   "interpreter": {
    "hash": "26de051ba29f2982a8de78e945f0abaf191376122a1563185a90213a26c5da77"
   }
  }
 },
 "nbformat": 4,
 "nbformat_minor": 2
}
